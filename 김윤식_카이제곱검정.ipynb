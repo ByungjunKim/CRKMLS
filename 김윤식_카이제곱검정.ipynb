{
  "cells": [
    {
      "cell_type": "markdown",
      "metadata": {
        "colab_type": "text",
        "id": "view-in-github"
      },
      "source": [
        "<a href=\"https://colab.research.google.com/github/ByungjunKim/CRKMLS/blob/main/%EA%B9%80%EC%9C%A4%EC%8B%9D_%EC%B9%B4%EC%9D%B4%EC%A0%9C%EA%B3%B1%EA%B2%80%EC%A0%95.ipynb\" target=\"_parent\"><img src=\"https://colab.research.google.com/assets/colab-badge.svg\" alt=\"Open In Colab\"/></a>"
      ]
    },
    {
      "attachments": {},
      "cell_type": "markdown",
      "metadata": {},
      "source": [
        "# 연구자 인구사회학적 정보에 따른 김윤식 인용 여부 카이제곱검정"
      ]
    },
    {
      "cell_type": "code",
      "execution_count": null,
      "metadata": {},
      "outputs": [],
      "source": [
        "# Colab 등에서 필요한 경우 주석해제 후 실행\n",
        "# !git clone https://github.com/ByungjunKim/CRKMLS.git\n",
        "# cd CRKMLS"
      ]
    },
    {
      "cell_type": "code",
      "execution_count": null,
      "metadata": {},
      "outputs": [],
      "source": [
        "# 필요시 패키지 설치\n",
        "# !pip install -U scipy statsmodels pandas"
      ]
    },
    {
      "cell_type": "code",
      "execution_count": null,
      "metadata": {},
      "outputs": [],
      "source": [
        "# 필요 패키지 로드\n",
        "import pandas as pd # Pandas \n",
        "from scipy.stats import chi2_contingency # 카이제곱 검정\n",
        "from statsmodels.stats.multitest import multipletests # 사후 검정\n",
        "from itertools import combinations\n",
        "import scipy.stats"
      ]
    },
    {
      "cell_type": "code",
      "execution_count": null,
      "metadata": {
        "id": "rhMUNszGgPV6"
      },
      "outputs": [],
      "source": [
        "df = pd.read_excel('./data/한국현대문학_연구대상_논문.xlsx')\n",
        "df"
      ]
    },
    {
      "cell_type": "code",
      "execution_count": null,
      "metadata": {},
      "outputs": [],
      "source": [
        "# 김윤식 인용 여부 (인용하면 1, 아니면 0)\n",
        "df['김윤식_인용'].value_counts()"
      ]
    },
    {
      "attachments": {},
      "cell_type": "markdown",
      "metadata": {},
      "source": [
        "### 1. 성별"
      ]
    },
    {
      "cell_type": "code",
      "execution_count": null,
      "metadata": {},
      "outputs": [],
      "source": [
        "# 성별 빈도\n",
        "df['gender'].value_counts()"
      ]
    },
    {
      "cell_type": "code",
      "execution_count": null,
      "metadata": {},
      "outputs": [],
      "source": [
        "# Continggency Table 생성\n",
        "gender_kim = pd.crosstab(df['gender'],df['김윤식_인용'])\n",
        "gender_kim.columns = ['김윤식_비인용','김윤식_인용']\n",
        "gender_kim"
      ]
    },
    {
      "cell_type": "code",
      "execution_count": null,
      "metadata": {},
      "outputs": [],
      "source": [
        "# 카이제곱 검정\n",
        "# 참고 : https://docs.scipy.org/doc/scipy/reference/generated/scipy.stats.chi2_contingency.html\n",
        "chi2_contingency(gender_kim)"
      ]
    },
    {
      "attachments": {},
      "cell_type": "markdown",
      "metadata": {},
      "source": [
        "### 2. 최종 졸업학교"
      ]
    },
    {
      "cell_type": "code",
      "execution_count": null,
      "metadata": {},
      "outputs": [],
      "source": [
        "# 최종 졸업학교 비중\n",
        "df['grad'].value_counts(normalize=True)"
      ]
    },
    {
      "cell_type": "code",
      "execution_count": null,
      "metadata": {},
      "outputs": [],
      "source": [
        "# 서울대 졸업하면 1, 아니면 0\n",
        "df.loc[df['grad']=='서울대학교','snu'] = 1\n",
        "df.loc[df['grad']!='서울대학교','snu'] = 0"
      ]
    },
    {
      "cell_type": "code",
      "execution_count": null,
      "metadata": {},
      "outputs": [],
      "source": [
        "# 서울대 졸업 vs 비졸업\n",
        "df['snu'].value_counts()"
      ]
    },
    {
      "cell_type": "code",
      "execution_count": null,
      "metadata": {},
      "outputs": [],
      "source": [
        "# Continggency Table 생성\n",
        "snu = pd.crosstab(df['snu'],df['김윤식_인용'])\n",
        "snu.index = ['비서울대','서울대']\n",
        "snu.columns = ['김윤식_비인용','김윤식_인용']\n",
        "snu"
      ]
    },
    {
      "cell_type": "code",
      "execution_count": null,
      "metadata": {},
      "outputs": [],
      "source": [
        "chi2_contingency(snu)"
      ]
    },
    {
      "attachments": {},
      "cell_type": "markdown",
      "metadata": {},
      "source": [
        "### 3. 세대"
      ]
    },
    {
      "cell_type": "code",
      "execution_count": null,
      "metadata": {},
      "outputs": [],
      "source": [
        "# 생년(세대) 정보 변수화\n",
        "df.loc[~pd.isna(df['birth']),'birth'] = df[~pd.isna(df['birth'])]['birth'].map(lambda x:1900 + int(x))\n",
        "df['birth']"
      ]
    },
    {
      "cell_type": "code",
      "execution_count": null,
      "metadata": {},
      "outputs": [],
      "source": [
        "# 생년 세대\n",
        "df.loc[~pd.isna(df['birth']),'birth_gen'] = \\\n",
        "pd.cut(df.loc[~pd.isna(df['birth']),'birth'],bins=[1900,1940,1950,1960,1970,1980,1990,2000],labels=['40년생 이전','40년대생','50년대생','60년대생','70년대생','80년대생','90년생 이후'],right=False)"
      ]
    },
    {
      "cell_type": "code",
      "execution_count": null,
      "metadata": {},
      "outputs": [],
      "source": [
        "df['birth_gen'].value_counts()"
      ]
    },
    {
      "cell_type": "code",
      "execution_count": null,
      "metadata": {},
      "outputs": [],
      "source": [
        "# Continggency Table 생성\n",
        "birth = pd.crosstab(df['birth_gen'],df['김윤식_인용'])\n",
        "birth = birth[1:]\n",
        "birth.columns = ['김윤식_비인용','김윤식_인용']\n",
        "birth"
      ]
    },
    {
      "cell_type": "code",
      "execution_count": null,
      "metadata": {},
      "outputs": [],
      "source": [
        "chi2_contingency(birth)"
      ]
    },
    {
      "cell_type": "code",
      "execution_count": null,
      "metadata": {},
      "outputs": [],
      "source": [
        "# 2개씩 짝지어 사후검정(Bonferroni)\n",
        "# 참고 : https://www.kaggle.com/code/satyads/anova-tukey-chi-square-bonferroni-pearson-lasso/notebook#Chi-Square-Test-of-Significance\n",
        "# Store p-values of each pair of month\n",
        "p_vals_chi = []\n",
        "pairs_of_birth = list(combinations(birth.index.tolist(),2))\n",
        "\n",
        "#For Each Pair of Months compute Chi Square Stats\n",
        "for each_pair in pairs_of_birth:\n",
        "    each_df = df[(df['birth_gen']==each_pair[0]) | (df['birth_gen']==each_pair[1])]\n",
        "    p_vals_chi.append(\\\n",
        "          scipy.stats.chi2_contingency(\n",
        "            pd.crosstab(each_df['birth_gen'], each_df['김윤식_인용']))[1]\n",
        "         )\n",
        "         \n",
        "#Results of Bonferroni Adjustment\n",
        "bonferroni_results = pd.DataFrame(columns=['pair of months',\\\n",
        "                                           'original p value',\\\n",
        "                                           'corrected p value',\\\n",
        "                                           'Reject Null?'])\n",
        "\n",
        "bonferroni_results['pair of months'] = pairs_of_birth\n",
        "bonferroni_results['original p value'] = p_vals_chi\n",
        "\n",
        "#Perform Bonferroni on the p-values and get the reject/fail to reject Null Hypothesis result.\n",
        "multi_test_results_bonferroni = multipletests(p_vals_chi, method='bonferroni',alpha=0.01)\n",
        "\n",
        "bonferroni_results['corrected p value'] = multi_test_results_bonferroni[1]\n",
        "bonferroni_results['Reject Null?'] = multi_test_results_bonferroni[0]\n",
        "bonferroni_results"
      ]
    }
  ],
  "metadata": {
    "colab": {
      "authorship_tag": "ABX9TyPpAitLdZP2ZDtPuffnAc6A",
      "include_colab_link": true,
      "provenance": []
    },
    "kernelspec": {
      "display_name": "Python 3",
      "name": "python3"
    },
    "language_info": {
      "codemirror_mode": {
        "name": "ipython",
        "version": 3
      },
      "file_extension": ".py",
      "mimetype": "text/x-python",
      "name": "python",
      "nbconvert_exporter": "python",
      "pygments_lexer": "ipython3",
      "version": "3.8.16"
    }
  },
  "nbformat": 4,
  "nbformat_minor": 0
}
